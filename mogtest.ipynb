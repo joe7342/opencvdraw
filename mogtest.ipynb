{
 "cells": [
  {
   "cell_type": "markdown",
   "metadata": {},
   "source": [
    "BackgroundSubtractorMOG2是以高斯混合模型為基礎的背景/前景分割算法。它是以2004年和2006年Z.Zivkovic的兩篇文章為基礎的。這個算法的一個特點是它為每一個像素選擇一個合適數目的高斯分佈演算法。 （上一個方法中我們使用是K高斯分佈）。這樣就會對由於亮度等發生變化引起的場景變化產生更好的適應。和前面一樣我們需要創建一個背景對象。但在這裡我們我們可以選擇是否檢測陰影。如果detectShadows = True（預設值），它就會檢測並將影子標記出來，但是這樣做會降低處理速度。影子會被標記為灰色。"
   ]
  },
  {
   "cell_type": "code",
   "execution_count": 1,
   "metadata": {},
   "outputs": [],
   "source": [
    "import cv2\n",
    "\n",
    "camera = cv2.VideoCapture(0) \n",
    "mog = cv2.createBackgroundSubtractorMOG2(detectShadows = False)\n",
    "\n",
    "while (1):\n",
    "    grabbed, frame_lwpCV = camera.read()\n",
    "    fgmask = mog.apply(frame_lwpCV)\n",
    "    cv2.imshow('frame', fgmask)\n",
    "    key = cv2.waitKey(1) & 0xFF\n",
    "    if key == ord('q'):\n",
    "        break\n",
    "\n",
    "camera.release()\n",
    "cv2.destroyAllWindows()"
   ]
  }
 ],
 "metadata": {
  "kernelspec": {
   "display_name": "Python 3",
   "language": "python",
   "name": "python3"
  },
  "language_info": {
   "codemirror_mode": {
    "name": "ipython",
    "version": 3
   },
   "file_extension": ".py",
   "mimetype": "text/x-python",
   "name": "python",
   "nbconvert_exporter": "python",
   "pygments_lexer": "ipython3",
   "version": "3.8.2"
  }
 },
 "nbformat": 4,
 "nbformat_minor": 4
}
