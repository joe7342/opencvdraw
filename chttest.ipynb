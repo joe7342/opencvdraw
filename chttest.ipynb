{
 "cells": [
  {
   "cell_type": "code",
   "execution_count": 2,
   "metadata": {},
   "outputs": [],
   "source": [
    "import numpy as np\n",
    "import cv2\n",
    "from PIL import ImageFont, ImageDraw, Image\n",
    "\n",
    "img = np.zeros((450, 450, 3), np.uint8)\n",
    "\n",
    "# 將背景設定為大紅色\n",
    "img[:] = (0, 0, 255)\n",
    "\n",
    "# 文字\n",
    "text = '安安\\n你好'\n",
    "\n",
    "# 指定 TTF 字體檔\n",
    "fontPath = \"./setofont.ttf\"\n",
    "\n",
    "# 載入字體\n",
    "font = ImageFont.truetype(fontPath, 192)\n",
    "\n",
    "# 將 NumPy 陣列轉為 PIL 影像\n",
    "imgPil = Image.fromarray(img)\n",
    "\n",
    "# 在圖片上加入文字\n",
    "draw = ImageDraw.Draw(imgPil)\n",
    "draw.text((30, 30),  text, font = font, fill = (0, 0, 0))\n",
    "\n",
    "# 將 PIL 影像轉回 NumPy 陣列\n",
    "img = np.array(imgPil)\n",
    "\n",
    "cv2.imshow('My Image', img)\n",
    "cv2.waitKey(0)\n",
    "cv2.destroyAllWindows()"
   ]
  },
  {
   "cell_type": "code",
   "execution_count": null,
   "metadata": {},
   "outputs": [],
   "source": []
  }
 ],
 "metadata": {
  "kernelspec": {
   "display_name": "Python 3",
   "language": "python",
   "name": "python3"
  },
  "language_info": {
   "codemirror_mode": {
    "name": "ipython",
    "version": 3
   },
   "file_extension": ".py",
   "mimetype": "text/x-python",
   "name": "python",
   "nbconvert_exporter": "python",
   "pygments_lexer": "ipython3",
   "version": "3.8.2"
  }
 },
 "nbformat": 4,
 "nbformat_minor": 4
}
